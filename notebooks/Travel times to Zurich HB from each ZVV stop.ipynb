{
 "cells": [
  {
   "cell_type": "code",
   "execution_count": 1,
   "metadata": {},
   "outputs": [],
   "source": [
    "# LazyJSON would be faster, but having issues installing to 0.6.1\n",
    "using Query, DataFrames, CSV, JSON"
   ]
  },
  {
   "cell_type": "markdown",
   "metadata": {},
   "source": [
    "Import list of stations, departures, arrivals"
   ]
  },
  {
   "cell_type": "code",
   "execution_count": 2,
   "metadata": {},
   "outputs": [
    {
     "data": {
      "text/html": [
       "<table class=\"data-frame\"><thead><tr><th></th><th>xtf_id</th><th>Nummer</th><th>Name</th><th>Abkuerzung</th><th>DatenherrA</th><th>TUNummer</th><th>TUAbkuerzu</th><th>Betriebspu</th><th>Verkehrsmi</th><th>Hoehe</th><th>GdeNummer</th><th>GdeName</th><th>BeginnGuel</th><th>EndeGuelti</th><th>Bearbeitun</th><th>Stand</th><th>rUebergeor</th></tr></thead><tbody><tr><th>1</th><td>ch14uvag00047298</td><td>8503391</td><td>Goldingen, Vordersagen</td><td>missing</td><td>missing</td><td>7</td><td>PAG</td><td>Haltestelle</td><td>Bus</td><td>780</td><td>3342</td><td>Eschenbach (SG)</td><td>2014/12/01</td><td>missing</td><td>2017/12/01</td><td>2017/12/10</td><td>missing</td></tr><tr><th>2</th><td>ch14uvag00058578</td><td>8503479</td><td>Schaffhausen, Kreuz</td><td>missing</td><td>missing</td><td>165</td><td>RVSH</td><td>Haltestelle</td><td>Bus</td><td>385</td><td>2939</td><td>Schaffhausen</td><td>2014/12/01</td><td>missing</td><td>2017/12/01</td><td>2017/12/10</td><td>missing</td></tr><tr><th>3</th><td>ch14uvag00042993</td><td>8591837</td><td>Cham, Lorzenpark</td><td>missing</td><td>missing</td><td>185</td><td>ZVB</td><td>Haltestelle</td><td>Bus</td><td>432</td><td>1702</td><td>Cham</td><td>2014/12/01</td><td>missing</td><td>2017/12/01</td><td>2017/12/10</td><td>missing</td></tr><tr><th>4</th><td>ch14uvag00061208</td><td>8573492</td><td>Thayngen, Bahnhof</td><td>missing</td><td>missing</td><td>165</td><td>RVSH</td><td>Haltestelle</td><td>Bus</td><td>417</td><td>2920</td><td>Thayngen</td><td>2014/12/01</td><td>missing</td><td>2017/12/01</td><td>2017/12/10</td><td>missing</td></tr><tr><th>5</th><td>ch14uvag00060992</td><td>8582713</td><td>Tägerig, Weidhof</td><td>missing</td><td>missing</td><td>7</td><td>PAG</td><td>Haltestelle</td><td>Bus</td><td>378</td><td>4077</td><td>Tägerig</td><td>2014/12/01</td><td>missing</td><td>2017/12/01</td><td>2017/12/10</td><td>missing</td></tr><tr><th>6</th><td>ch14uvag00063496</td><td>8592431</td><td>Weggis, Post</td><td>missing</td><td>missing</td><td>340</td><td>AAGS</td><td>Haltestelle</td><td>Bus</td><td>445</td><td>1069</td><td>Weggis</td><td>2014/12/01</td><td>missing</td><td>2017/12/01</td><td>2017/12/10</td><td>missing</td></tr></tbody></table>"
      ],
      "text/plain": [
       "6×17 DataFrames.DataFrame. Omitted printing of 13 columns\n",
       "│ Row │ xtf_id           │ Nummer  │ Name                   │ Abkuerzung │\n",
       "├─────┼──────────────────┼─────────┼────────────────────────┼────────────┤\n",
       "│ 1   │ ch14uvag00047298 │ 8503391 │ Goldingen, Vordersagen │ \u001b[90mmissing\u001b[39m    │\n",
       "│ 2   │ ch14uvag00058578 │ 8503479 │ Schaffhausen, Kreuz    │ \u001b[90mmissing\u001b[39m    │\n",
       "│ 3   │ ch14uvag00042993 │ 8591837 │ Cham, Lorzenpark       │ \u001b[90mmissing\u001b[39m    │\n",
       "│ 4   │ ch14uvag00061208 │ 8573492 │ Thayngen, Bahnhof      │ \u001b[90mmissing\u001b[39m    │\n",
       "│ 5   │ ch14uvag00060992 │ 8582713 │ Tägerig, Weidhof       │ \u001b[90mmissing\u001b[39m    │\n",
       "│ 6   │ ch14uvag00063496 │ 8592431 │ Weggis, Post           │ \u001b[90mmissing\u001b[39m    │"
      ]
     },
     "execution_count": 2,
     "metadata": {},
     "output_type": "execute_result"
    }
   ],
   "source": [
    "haltestellen = CSV.read(\"data/haltestellen-in-metro.csv\")\n",
    "head(haltestellen)"
   ]
  },
  {
   "cell_type": "code",
   "execution_count": 3,
   "metadata": {},
   "outputs": [
    {
     "data": {
      "text/plain": [
       "Dict{String,Any} with 4 entries:\n",
       "  \"name\"     => \"Metroregion\"\n",
       "  \"features\" => Any[Dict{String,Any}(Pair{String,Any}(\"properties\", Dict{String…\n",
       "  \"type\"     => \"FeatureCollection\"\n",
       "  \"crs\"      => Dict{String,Any}(Pair{String,Any}(\"properties\", Dict{String,Any…"
      ]
     },
     "execution_count": 3,
     "metadata": {},
     "output_type": "execute_result"
    }
   ],
   "source": [
    "open(\"data/Metroregion.geojson\", \"r\") do f\n",
    "    global metroregion\n",
    "    metroregion = JSON.parse(readstring(f))\n",
    "end"
   ]
  },
  {
   "cell_type": "code",
   "execution_count": 4,
   "metadata": {},
   "outputs": [
    {
     "data": {
      "text/plain": [
       "343"
      ]
     },
     "execution_count": 4,
     "metadata": {},
     "output_type": "execute_result"
    }
   ],
   "source": [
    "metronumbers = [ i[\"properties\"][\"BFS_NUMMER\"] for i in metroregion[\"features\"] ]\n",
    "length(metronumbers)"
   ]
  },
  {
   "cell_type": "markdown",
   "metadata": {},
   "source": [
    "Run a query to filter to the MKZ communes."
   ]
  },
  {
   "cell_type": "code",
   "execution_count": 5,
   "metadata": {},
   "outputs": [
    {
     "data": {
      "text/html": [
       "<table class=\"data-frame\"><thead><tr><th></th><th>id</th><th>name</th><th>geoid</th><th>geoname</th></tr></thead><tbody><tr><th>1</th><td>8503391</td><td>Goldingen, Vordersagen</td><td>3342</td><td>Eschenbach (SG)</td></tr><tr><th>2</th><td>8503479</td><td>Schaffhausen, Kreuz</td><td>2939</td><td>Schaffhausen</td></tr><tr><th>3</th><td>8591837</td><td>Cham, Lorzenpark</td><td>1702</td><td>Cham</td></tr><tr><th>4</th><td>8573492</td><td>Thayngen, Bahnhof</td><td>2920</td><td>Thayngen</td></tr><tr><th>5</th><td>8582713</td><td>Tägerig, Weidhof</td><td>4077</td><td>Tägerig</td></tr><tr><th>6</th><td>8592431</td><td>Weggis, Post</td><td>1069</td><td>Weggis</td></tr><tr><th>7</th><td>8580276</td><td>Wohlen AG, Luegisland</td><td>4082</td><td>Wohlen (AG)</td></tr><tr><th>8</th><td>8576957</td><td>Tänikon, Forschungsanstalt</td><td>4551</td><td>Aadorf</td></tr><tr><th>9</th><td>8590957</td><td>Winterthur, Hedy Hahnloser</td><td>230</td><td>Winterthur</td></tr><tr><th>10</th><td>8506004</td><td>Kollbrunn</td><td>231</td><td>Zell (ZH)</td></tr><tr><th>11</th><td>8503733</td><td>Egg SZ, Postplatz</td><td>1301</td><td>Einsiedeln</td></tr><tr><th>12</th><td>8576008</td><td>Hinwil, Bossikon</td><td>117</td><td>Hinwil</td></tr><tr><th>13</th><td>8580240</td><td>Frauenfeld, Rorerbrücke</td><td>4566</td><td>Frauenfeld</td></tr><tr><th>14</th><td>8503400</td><td>Bülach</td><td>53</td><td>Bülach</td></tr><tr><th>15</th><td>8589790</td><td>Luzern, Giseli</td><td>1061</td><td>Luzern</td></tr><tr><th>16</th><td>8506013</td><td>Aadorf</td><td>4551</td><td>Aadorf</td></tr><tr><th>17</th><td>8574433</td><td>Wangen SZ, Zentrum</td><td>1349</td><td>Wangen (SZ)</td></tr><tr><th>18</th><td>8572500</td><td>Tegerfelden, Kirche</td><td>4320</td><td>Tegerfelden</td></tr><tr><th>19</th><td>8503387</td><td>Hintergoldingen, Sonne</td><td>3342</td><td>Eschenbach (SG)</td></tr><tr><th>20</th><td>8583317</td><td>Frauenfeld, Ahornweg</td><td>4566</td><td>Frauenfeld</td></tr><tr><th>21</th><td>8573342</td><td>Wellhausen, Weinfelderstrasse</td><td>4561</td><td>Felben-Wellhausen</td></tr><tr><th>22</th><td>8503564</td><td>Madetswil, Dorf</td><td>178</td><td>Russikon</td></tr><tr><th>23</th><td>8506015</td><td>Räterschen</td><td>219</td><td>Elsau</td></tr><tr><th>24</th><td>8573436</td><td>Trüllikon, Kindergarten</td><td>40</td><td>Trüllikon</td></tr><tr><th>25</th><td>8590924</td><td>Winterthur, Bolrebenweg</td><td>230</td><td>Winterthur</td></tr><tr><th>26</th><td>8590983</td><td>Winterthur, Pfaffenwiesen</td><td>230</td><td>Winterthur</td></tr><tr><th>27</th><td>8590868</td><td>Wädenswil, Schlossbergstrasse</td><td>142</td><td>Wädenswil</td></tr><tr><th>28</th><td>8503189</td><td>Riedikon, Dorf</td><td>198</td><td>Uster</td></tr><tr><th>29</th><td>8588798</td><td>Wädenswil, Campus Reidbach</td><td>142</td><td>Wädenswil</td></tr><tr><th>30</th><td>8573268</td><td>Bachs, Alt-Bachs</td><td>81</td><td>Bachs</td></tr><tr><th>&vellip;</th><td>&vellip;</td><td>&vellip;</td><td>&vellip;</td><td>&vellip;</td></tr></tbody></table>"
      ],
      "text/plain": [
       "5049×4 DataFrames.DataFrame\n",
       "│ Row  │ id      │ name                              │ geoid │ geoname         │\n",
       "├──────┼─────────┼───────────────────────────────────┼───────┼─────────────────┤\n",
       "│ 1    │ 8503391 │ Goldingen, Vordersagen            │ 3342  │ Eschenbach (SG) │\n",
       "│ 2    │ 8503479 │ Schaffhausen, Kreuz               │ 2939  │ Schaffhausen    │\n",
       "│ 3    │ 8591837 │ Cham, Lorzenpark                  │ 1702  │ Cham            │\n",
       "│ 4    │ 8573492 │ Thayngen, Bahnhof                 │ 2920  │ Thayngen        │\n",
       "│ 5    │ 8582713 │ Tägerig, Weidhof                  │ 4077  │ Tägerig         │\n",
       "│ 6    │ 8592431 │ Weggis, Post                      │ 1069  │ Weggis          │\n",
       "│ 7    │ 8580276 │ Wohlen AG, Luegisland             │ 4082  │ Wohlen (AG)     │\n",
       "│ 8    │ 8576957 │ Tänikon, Forschungsanstalt        │ 4551  │ Aadorf          │\n",
       "│ 9    │ 8590957 │ Winterthur, Hedy Hahnloser        │ 230   │ Winterthur      │\n",
       "│ 10   │ 8506004 │ Kollbrunn                         │ 231   │ Zell (ZH)       │\n",
       "│ 11   │ 8503733 │ Egg SZ, Postplatz                 │ 1301  │ Einsiedeln      │\n",
       "⋮\n",
       "│ 5038 │ 8502793 │ Menzingen, Institut/Bernardaplatz │ 1704  │ Menzingen       │\n",
       "│ 5039 │ 8573589 │ Goldingen, Baumgarten             │ 3342  │ Eschenbach (SG) │\n",
       "│ 5040 │ 8574473 │ Uznach, Bahnhof                   │ 3339  │ Uznach          │\n",
       "│ 5041 │ 8590950 │ Winterthur, Guggenbühl            │ 230   │ Winterthur      │\n",
       "│ 5042 │ 8592564 │ Schaffhausen, Majorenacker        │ 2939  │ Schaffhausen    │\n",
       "│ 5043 │ 8590314 │ Würenlos, Büntenstrasse           │ 4048  │ Würenlos        │\n",
       "│ 5044 │ 8573706 │ Rüdlingen, Brückenwaage           │ 2938  │ Rüdlingen       │\n",
       "│ 5045 │ 8591265 │ Zürich, Luggwegstrasse            │ 261   │ Zürich          │\n",
       "│ 5046 │ 8580596 │ Feuerthalen, Bahnhof              │ 27    │ Feuerthalen     │\n",
       "│ 5047 │ 8589749 │ Littau, Bahnhof                   │ 1061  │ Luzern          │\n",
       "│ 5048 │ 8503378 │ Tagelswangen, Dorf                │ 176   │ Lindau          │\n",
       "│ 5049 │ 8590480 │ Adliswil, Rifertstrasse           │ 131   │ Adliswil        │"
      ]
     },
     "execution_count": 5,
     "metadata": {},
     "output_type": "execute_result"
    }
   ],
   "source": [
    "ZURICH_HB = \"8503000\"\n",
    "ZURICH_SZU = \"8503088\"\n",
    "q1 = @from i in haltestellen begin\n",
    "    @where i.GdeNummer in metronumbers && i.Nummer != ZURICH_HB && i.Nummer != ZURICH_SZU\n",
    "    @select {id=i.Nummer, name=i.Name, geoid=i.GdeNummer, geoname=i.GdeName}\n",
    "    @collect DataFrame\n",
    "end"
   ]
  },
  {
   "cell_type": "markdown",
   "metadata": {},
   "source": [
    "Load the current travel plan in [GTFS format](https://opentransportdata.swiss/de/cookbook/gtfs/#Wann_gibt_es_neue_GTFS_Static_Files)"
   ]
  },
  {
   "cell_type": "code",
   "execution_count": 6,
   "metadata": {},
   "outputs": [
    {
     "data": {
      "text/html": [
       "<table class=\"data-frame\"><thead><tr><th></th><th>trip_id</th><th>arrival_time</th><th>departure_time</th><th>stop_id</th><th>stop_sequence</th><th>pickup_type</th><th>drop_off_type</th></tr></thead><tbody><tr><th>1</th><td>1.TA.1-1-A-j18-1.1.H</td><td>01:00:00</td><td>01:00:00</td><td>8503000:0:41/42</td><td>1</td><td>0</td><td>0</td></tr><tr><th>2</th><td>1.TA.1-1-A-j18-1.1.H</td><td>01:02:00</td><td>01:02:00</td><td>8503020:0:4</td><td>2</td><td>0</td><td>0</td></tr><tr><th>3</th><td>1.TA.1-1-A-j18-1.1.H</td><td>01:05:00</td><td>01:05:00</td><td>8503001:0:3</td><td>3</td><td>0</td><td>0</td></tr><tr><th>4</th><td>1.TA.1-1-A-j18-1.1.H</td><td>01:07:00</td><td>01:07:00</td><td>8503509:0:3</td><td>4</td><td>0</td><td>0</td></tr><tr><th>5</th><td>1.TA.1-1-A-j18-1.1.H</td><td>01:10:00</td><td>01:10:00</td><td>8503512:0:1</td><td>5</td><td>0</td><td>0</td></tr><tr><th>6</th><td>1.TA.1-1-A-j18-1.1.H</td><td>01:13:00</td><td>01:15:00</td><td>8503508:0:3</td><td>6</td><td>0</td><td>0</td></tr></tbody></table>"
      ],
      "text/plain": [
       "6×7 DataFrames.DataFrame. Omitted printing of 3 columns\n",
       "│ Row │ trip_id              │ arrival_time │ departure_time │ stop_id         │\n",
       "├─────┼──────────────────────┼──────────────┼────────────────┼─────────────────┤\n",
       "│ 1   │ 1.TA.1-1-A-j18-1.1.H │ 01:00:00     │ 01:00:00       │ 8503000:0:41/42 │\n",
       "│ 2   │ 1.TA.1-1-A-j18-1.1.H │ 01:02:00     │ 01:02:00       │ 8503020:0:4     │\n",
       "│ 3   │ 1.TA.1-1-A-j18-1.1.H │ 01:05:00     │ 01:05:00       │ 8503001:0:3     │\n",
       "│ 4   │ 1.TA.1-1-A-j18-1.1.H │ 01:07:00     │ 01:07:00       │ 8503509:0:3     │\n",
       "│ 5   │ 1.TA.1-1-A-j18-1.1.H │ 01:10:00     │ 01:10:00       │ 8503512:0:1     │\n",
       "│ 6   │ 1.TA.1-1-A-j18-1.1.H │ 01:13:00     │ 01:15:00       │ 8503508:0:3     │"
      ]
     },
     "execution_count": 6,
     "metadata": {},
     "output_type": "execute_result"
    }
   ],
   "source": [
    "stoptimes = CSV.read(\"data/gtfsfp/stop_times.txt\")\n",
    "head(stoptimes)"
   ]
  },
  {
   "cell_type": "markdown",
   "metadata": {},
   "source": [
    "Clean up the stop identifiers and parse timestamps."
   ]
  },
  {
   "cell_type": "code",
   "execution_count": 9,
   "metadata": {
    "scrolled": true
   },
   "outputs": [
    {
     "data": {
      "text/html": [
       "<table class=\"data-frame\"><thead><tr><th></th><th>trip_id</th><th>arrival_time</th><th>departure_time</th><th>stop_id</th><th>stop_sequence</th><th>pickup_type</th><th>drop_off_type</th></tr></thead><tbody><tr><th>1</th><td>1.TA.1-1-A-j18-1.1.H</td><td>01:00:00</td><td>01:00:00</td><td>8503000</td><td>1</td><td>0</td><td>0</td></tr><tr><th>2</th><td>1.TA.1-1-A-j18-1.1.H</td><td>01:02:00</td><td>01:02:00</td><td>8503020</td><td>2</td><td>0</td><td>0</td></tr><tr><th>3</th><td>1.TA.1-1-A-j18-1.1.H</td><td>01:05:00</td><td>01:05:00</td><td>8503001</td><td>3</td><td>0</td><td>0</td></tr><tr><th>4</th><td>1.TA.1-1-A-j18-1.1.H</td><td>01:07:00</td><td>01:07:00</td><td>8503509</td><td>4</td><td>0</td><td>0</td></tr><tr><th>5</th><td>1.TA.1-1-A-j18-1.1.H</td><td>01:10:00</td><td>01:10:00</td><td>8503512</td><td>5</td><td>0</td><td>0</td></tr><tr><th>6</th><td>1.TA.1-1-A-j18-1.1.H</td><td>01:13:00</td><td>01:15:00</td><td>8503508</td><td>6</td><td>0</td><td>0</td></tr></tbody></table>"
      ],
      "text/plain": [
       "6×7 DataFrames.DataFrame. Omitted printing of 3 columns\n",
       "│ Row │ trip_id              │ arrival_time │ departure_time │ stop_id │\n",
       "├─────┼──────────────────────┼──────────────┼────────────────┼─────────┤\n",
       "│ 1   │ 1.TA.1-1-A-j18-1.1.H │ 01:00:00     │ 01:00:00       │ 8503000 │\n",
       "│ 2   │ 1.TA.1-1-A-j18-1.1.H │ 01:02:00     │ 01:02:00       │ 8503020 │\n",
       "│ 3   │ 1.TA.1-1-A-j18-1.1.H │ 01:05:00     │ 01:05:00       │ 8503001 │\n",
       "│ 4   │ 1.TA.1-1-A-j18-1.1.H │ 01:07:00     │ 01:07:00       │ 8503509 │\n",
       "│ 5   │ 1.TA.1-1-A-j18-1.1.H │ 01:10:00     │ 01:10:00       │ 8503512 │\n",
       "│ 6   │ 1.TA.1-1-A-j18-1.1.H │ 01:13:00     │ 01:15:00       │ 8503508 │"
      ]
     },
     "execution_count": 9,
     "metadata": {},
     "output_type": "execute_result"
    }
   ],
   "source": [
    "function get_23_time(the_time)\n",
    "    bad_hour = parse(Int64, the_time[1:2])\n",
    "    if bad_hour > 23\n",
    "        the_time = replace(the_time, r\"..(:..:..)\", s\"\\1\")\n",
    "        the_time = string(bad_hour-24) * the_time\n",
    "    end\n",
    "    DateTime(the_time, dateformat\"HH:MM:SS\")\n",
    "end\n",
    "\n",
    "stoptimes[:stop_id] = [ split(i[:stop_id],\":\")[1] for i in eachrow(stoptimes) ]\n",
    "head(stoptimes)"
   ]
  },
  {
   "cell_type": "markdown",
   "metadata": {},
   "source": [
    "Calculate time difference"
   ]
  },
  {
   "cell_type": "code",
   "execution_count": 38,
   "metadata": {},
   "outputs": [],
   "source": [
    "cur_trip_id = \"\"\n",
    "cur_trip_start = 0\n",
    "diff_times = Dict()\n",
    "\n",
    "for i in eachrow(stoptimes)\n",
    "    if cur_trip_id != i[:trip_id]\n",
    "        cur_trip_id = \"\"\n",
    "    end\n",
    "    cur_stop_id = i[:stop_id]\n",
    "    if cur_stop_id == ZURICH_HB\n",
    "        cur_trip_id = i[:trip_id]\n",
    "        cur_trip_start = get_23_time(i[:departure_time])\n",
    "    elseif cur_trip_id != \"\"\n",
    "        cur_trip_end = get_23_time(i[:arrival_time])\n",
    "        if cur_trip_start != cur_trip_end && cur_trip_end != 0 && cur_trip_start != 0\n",
    "            trip_time_diff = abs(Dates.value(cur_trip_end) - Dates.value(cur_trip_start))\n",
    "            #if haskey(diff_times, cur_stop_id)\n",
    "            #    diff_times[cur_stop_id] = Integer((diff_times[cur_stop_id] + trip_time_diff) / 2)\n",
    "            #else\n",
    "                diff_times[cur_stop_id] = Integer(trip_time_diff)\n",
    "            #end\n",
    "        end\n",
    "    end\n",
    "end\n",
    "\n",
    "Dates.epochms2datetime(diff_times[\"8500309\"])"
   ]
  },
  {
   "cell_type": "code",
   "execution_count": 53,
   "metadata": {},
   "outputs": [
    {
     "data": {
      "text/html": [
       "<table class=\"data-frame\"><thead><tr><th></th><th>id</th><th>name</th><th>geoid</th><th>geoname</th><th>min_to_hb</th></tr></thead><tbody><tr><th>1</th><td>8503391</td><td>Goldingen, Vordersagen</td><td>3342</td><td>Eschenbach (SG)</td><td>0</td></tr><tr><th>2</th><td>8503479</td><td>Schaffhausen, Kreuz</td><td>2939</td><td>Schaffhausen</td><td>0</td></tr><tr><th>3</th><td>8591837</td><td>Cham, Lorzenpark</td><td>1702</td><td>Cham</td><td>0</td></tr><tr><th>4</th><td>8573492</td><td>Thayngen, Bahnhof</td><td>2920</td><td>Thayngen</td><td>0</td></tr><tr><th>5</th><td>8582713</td><td>Tägerig, Weidhof</td><td>4077</td><td>Tägerig</td><td>0</td></tr><tr><th>6</th><td>8592431</td><td>Weggis, Post</td><td>1069</td><td>Weggis</td><td>0</td></tr></tbody></table>"
      ],
      "text/plain": [
       "6×5 DataFrames.DataFrame\n",
       "│ Row │ id      │ name                   │ geoid │ geoname         │ min_to_hb │\n",
       "├─────┼─────────┼────────────────────────┼───────┼─────────────────┼───────────┤\n",
       "│ 1   │ 8503391 │ Goldingen, Vordersagen │ 3342  │ Eschenbach (SG) │ 0         │\n",
       "│ 2   │ 8503479 │ Schaffhausen, Kreuz    │ 2939  │ Schaffhausen    │ 0         │\n",
       "│ 3   │ 8591837 │ Cham, Lorzenpark       │ 1702  │ Cham            │ 0         │\n",
       "│ 4   │ 8573492 │ Thayngen, Bahnhof      │ 2920  │ Thayngen        │ 0         │\n",
       "│ 5   │ 8582713 │ Tägerig, Weidhof       │ 4077  │ Tägerig         │ 0         │\n",
       "│ 6   │ 8592431 │ Weggis, Post           │ 1069  │ Weggis          │ 0         │"
      ]
     },
     "execution_count": 53,
     "metadata": {},
     "output_type": "execute_result"
    }
   ],
   "source": [
    "q1[:min_to_hb] = [ \n",
    "    if haskey(diff_times, string(stop[:id]))\n",
    "        diff_times[string(stop[:id])]\n",
    "    else\n",
    "        0\n",
    "    end\n",
    "    for stop in eachrow(q1)\n",
    "]\n",
    "head(q1)"
   ]
  },
  {
   "cell_type": "code",
   "execution_count": 65,
   "metadata": {},
   "outputs": [
    {
     "data": {
      "text/html": [
       "<table class=\"data-frame\"><thead><tr><th></th><th>id</th><th>name</th><th>geoid</th><th>geoname</th><th>min_to_hb</th></tr></thead><tbody><tr><th>1</th><td>8503400</td><td>Bülach</td><td>53</td><td>Bülach</td><td>1020000</td></tr><tr><th>2</th><td>8506013</td><td>Aadorf</td><td>4551</td><td>Aadorf</td><td>2640000</td></tr><tr><th>3</th><td>8503511</td><td>Neuenhof</td><td>4034</td><td>Neuenhof</td><td>1320000</td></tr><tr><th>4</th><td>8503130</td><td>Hinwil</td><td>117</td><td>Hinwil</td><td>2400000</td></tr><tr><th>5</th><td>8503141</td><td>Küsnacht Goldbach</td><td>154</td><td>Küsnacht (ZH)</td><td>720000</td></tr><tr><th>6</th><td>8503101</td><td>Küsnacht ZH</td><td>154</td><td>Küsnacht (ZH)</td><td>900000</td></tr><tr><th>7</th><td>8503204</td><td>Horgen</td><td>133</td><td>Horgen</td><td>1260000</td></tr><tr><th>8</th><td>8503205</td><td>Au ZH</td><td>142</td><td>Wädenswil</td><td>1440000</td></tr><tr><th>9</th><td>8502306</td><td>Hünenberg Chämleten</td><td>1703</td><td>Hünenberg</td><td>2460000</td></tr><tr><th>10</th><td>8503020</td><td>Zürich Hardbrücke</td><td>261</td><td>Zürich</td><td>120000</td></tr><tr><th>11</th><td>8503128</td><td>Dübendorf</td><td>191</td><td>Dübendorf</td><td>600000</td></tr><tr><th>12</th><td>8506014</td><td>Elgg</td><td>217</td><td>Elgg</td><td>2460000</td></tr><tr><th>13</th><td>8503126</td><td>Nänikon-Greifensee</td><td>198</td><td>Uster</td><td>900000</td></tr><tr><th>14</th><td>8503112</td><td>Kempraten</td><td>3340</td><td>Rapperswil-Jona</td><td>2160000</td></tr><tr><th>15</th><td>8503401</td><td>Glattfelden</td><td>58</td><td>Glattfelden</td><td>1740000</td></tr><tr><th>16</th><td>8503006</td><td>Zürich Oerlikon</td><td>261</td><td>Zürich</td><td>360000</td></tr><tr><th>17</th><td>8515995</td><td>Cham Alpenblick</td><td>1702</td><td>Cham</td><td>2040000</td></tr><tr><th>18</th><td>8506019</td><td>Islikon</td><td>4571</td><td>Gachnang</td><td>2220000</td></tr><tr><th>19</th><td>8503004</td><td>Zürich Tiefenbrunnen</td><td>261</td><td>Zürich</td><td>480000</td></tr><tr><th>20</th><td>8502114</td><td>Rupperswil</td><td>4206</td><td>Rupperswil</td><td>3300000</td></tr><tr><th>21</th><td>8503319</td><td>Niederweningen</td><td>91</td><td>Niederweningen</td><td>2040000</td></tr><tr><th>22</th><td>8506047</td><td>Andelfingen</td><td>30</td><td>Andelfingen</td><td>2700000</td></tr><tr><th>23</th><td>8503505</td><td>Wettingen</td><td>4045</td><td>Wettingen</td><td>1500000</td></tr><tr><th>24</th><td>8503221</td><td>Siebnen-Wangen</td><td>1349</td><td>Wangen (SZ)</td><td>2280000</td></tr><tr><th>25</th><td>8502206</td><td>Baar</td><td>1701</td><td>Baar</td><td>1020000</td></tr><tr><th>26</th><td>8502215</td><td>Muri AG</td><td>4236</td><td>Muri (AG)</td><td>2640000</td></tr><tr><th>27</th><td>8503106</td><td>Männedorf</td><td>155</td><td>Männedorf</td><td>1800000</td></tr><tr><th>28</th><td>8503301</td><td>Pfäffikon ZH</td><td>177</td><td>Pfäffikon</td><td>84600000</td></tr><tr><th>29</th><td>8503340</td><td>Opfikon</td><td>66</td><td>Opfikon</td><td>540000</td></tr><tr><th>30</th><td>8503525</td><td>Otelfingen Golfpark</td><td>94</td><td>Otelfingen</td><td>1380000</td></tr><tr><th>&vellip;</th><td>&vellip;</td><td>&vellip;</td><td>&vellip;</td><td>&vellip;</td><td>&vellip;</td></tr></tbody></table>"
      ],
      "text/plain": [
       "150×5 DataFrames.DataFrame. Omitted printing of 1 columns\n",
       "│ Row │ id      │ name                  │ geoid │ geoname           │\n",
       "├─────┼─────────┼───────────────────────┼───────┼───────────────────┤\n",
       "│ 1   │ 8503400 │ Bülach                │ 53    │ Bülach            │\n",
       "│ 2   │ 8506013 │ Aadorf                │ 4551  │ Aadorf            │\n",
       "│ 3   │ 8503511 │ Neuenhof              │ 4034  │ Neuenhof          │\n",
       "│ 4   │ 8503130 │ Hinwil                │ 117   │ Hinwil            │\n",
       "│ 5   │ 8503141 │ Küsnacht Goldbach     │ 154   │ Küsnacht (ZH)     │\n",
       "│ 6   │ 8503101 │ Küsnacht ZH           │ 154   │ Küsnacht (ZH)     │\n",
       "│ 7   │ 8503204 │ Horgen                │ 133   │ Horgen            │\n",
       "│ 8   │ 8503205 │ Au ZH                 │ 142   │ Wädenswil         │\n",
       "│ 9   │ 8502306 │ Hünenberg Chämleten   │ 1703  │ Hünenberg         │\n",
       "│ 10  │ 8503020 │ Zürich Hardbrücke     │ 261   │ Zürich            │\n",
       "│ 11  │ 8503128 │ Dübendorf             │ 191   │ Dübendorf         │\n",
       "⋮\n",
       "│ 139 │ 8503100 │ Zollikon              │ 161   │ Zollikon          │\n",
       "│ 140 │ 8503222 │ Schübelbach-Buttikon  │ 1346  │ Schübelbach       │\n",
       "│ 141 │ 8503103 │ Herrliberg-Feldmeilen │ 156   │ Meilen            │\n",
       "│ 142 │ 8503209 │ Pfäffikon SZ          │ 1322  │ Freienbach        │\n",
       "│ 143 │ 8503424 │ Schaffhausen          │ 2939  │ Schaffhausen      │\n",
       "│ 144 │ 8503305 │ Effretikon            │ 296   │ Illnau-Effretikon │\n",
       "│ 145 │ 8506102 │ Hüttlingen-Mettendorf │ 4590  │ Hüttlingen        │\n",
       "│ 146 │ 8503220 │ Lachen                │ 1344  │ Lachen            │\n",
       "│ 147 │ 8502227 │ Steinhausen           │ 1708  │ Steinhausen       │\n",
       "│ 148 │ 8503201 │ Rüschlikon            │ 139   │ Rüschlikon        │\n",
       "│ 149 │ 8506036 │ Reutlingen            │ 230   │ Winterthur        │\n",
       "│ 150 │ 8503211 │ Altendorf             │ 1341  │ Altendorf         │"
      ]
     },
     "execution_count": 65,
     "metadata": {},
     "output_type": "execute_result"
    }
   ],
   "source": [
    "q2 = @from i in q1 begin\n",
    "    @where i.min_to_hb > 0\n",
    "    @select {i.id,i.name,i.geoid,i.geoname,i.min_to_hb}\n",
    "    @collect DataFrame\n",
    "end\n",
    "q2"
   ]
  },
  {
   "cell_type": "markdown",
   "metadata": {},
   "source": [
    "Statistical summaries (max, min, average)"
   ]
  },
  {
   "cell_type": "code",
   "execution_count": 69,
   "metadata": {},
   "outputs": [
    {
     "name": "stdout",
     "output_type": "stream",
     "text": [
      "Summary Stats:\n",
      "Mean:           5446800.000000\n",
      "Minimum:        120000.000000\n",
      "1st Quartile:   1020000.000000\n",
      "Median:         1620000.000000\n",
      "3rd Quartile:   2160000.000000\n",
      "Maximum:        84780000.000000\n",
      "Length:         150\n",
      "Type:           Int64\n"
     ]
    }
   ],
   "source": [
    "describe(q2[:min_to_hb])"
   ]
  },
  {
   "cell_type": "markdown",
   "metadata": {},
   "source": [
    "Visualisations"
   ]
  },
  {
   "cell_type": "markdown",
   "metadata": {},
   "source": [
    "Export"
   ]
  }
 ],
 "metadata": {
  "kernelspec": {
   "display_name": "Julia 0.6.1",
   "language": "julia",
   "name": "julia-0.6"
  },
  "language_info": {
   "file_extension": ".jl",
   "mimetype": "application/julia",
   "name": "julia",
   "version": "0.6.1"
  }
 },
 "nbformat": 4,
 "nbformat_minor": 2
}
